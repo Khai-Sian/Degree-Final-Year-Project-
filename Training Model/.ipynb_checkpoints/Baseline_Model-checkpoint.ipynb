{
 "cells": [
  {
   "cell_type": "code",
   "execution_count": 1,
   "metadata": {
    "id": "bQxVOHPZBP8e"
   },
   "outputs": [],
   "source": [
    "import numpy as np\n",
    "import pandas as pd\n",
    "from sklearn.model_selection import train_test_split\n",
    "from sklearn.metrics import r2_score, mean_squared_error\n",
    "from sklearn.linear_model import LinearRegression\n",
    "import pickle\n",
    "\n",
    "#Colab use\n",
    "#from google.colab import files\n",
    "#uploaded = files.upload()\n",
    "#import io"
   ]
  },
  {
   "cell_type": "code",
   "execution_count": 2,
   "metadata": {
    "id": "QunG_GGvBxli"
   },
   "outputs": [],
   "source": [
    "def evaluate(y_true, y_pred, label='test'):\n",
    "    mse = mean_squared_error(y_true, y_pred) #calculate MSE\n",
    "    rmse = np.sqrt(mse) #calculate RMSE\n",
    "    variance = r2_score(y_true, y_pred) #calculate R2\n",
    "    print('{} set RMSE:{}, R2:{}'.format(label, rmse, variance))"
   ]
  },
  {
   "cell_type": "markdown",
   "metadata": {
    "id": "KEEMaM8yCgmS"
   },
   "source": [
    "# Load Data"
   ]
  },
  {
   "cell_type": "code",
   "execution_count": 3,
   "metadata": {
    "id": "dfPgtSfnCil3"
   },
   "outputs": [],
   "source": [
    "index_names = ['ID', 'Cycle']\n",
    "setting_names = ['OpSet1', 'OpSet2', 'OpSet3']\n",
    "sensor_names = ['SensorMeasure{}'.format(i) for i in range(1,22)] \n",
    "col_names = index_names + setting_names + sensor_names\n",
    "\n",
    "train_data = pd.read_csv(\"data/train_set.csv\")\n",
    "test_data = pd.read_csv(\"data/test_set.csv\")\n",
    "true_RUL = pd.read_csv(\"data/RUL_FD001.txt\", sep='\\s+', header = None)\n",
    "\n",
    "#Colab use\n",
    "#train_data = pd.read_csv(io.BytesIO(uploaded['train_set.csv']))\n",
    "#test_data = pd.read_csv(io.BytesIO(uploaded['test_set.csv']))\n",
    "#true_RUL = pd.read_csv(io.BytesIO(uploaded['RUL_FD001.txt']), sep='\\s+', header = None)\n",
    "\n",
    "train_RUL = train_data['RUL']\n",
    "test_RUL = test_data['RUL']\n",
    "\n",
    "train_data = train_data.drop(['RUL'], 1)\n",
    "test_data = test_data.drop(['RUL'], 1)\n",
    "\n",
    "test_data = test_data.groupby(['ID'])\n",
    "test_data = test_data.tail(1)\n",
    "\n",
    "#assign to new variable for easy understanding\n",
    "train = train_data\n",
    "train_y = train_RUL\n",
    "test = test_data.groupby(['ID']).tail(1) #get the last record for each engine\n",
    "test_y = true_RUL\n",
    "\n",
    "#only sensor value considered\n",
    "train = train[sensor_names]\n",
    "test = test[sensor_names]"
   ]
  },
  {
   "cell_type": "markdown",
   "metadata": {
    "id": "U5YxSgiBFUEp"
   },
   "source": [
    "# Zero R Algorithm"
   ]
  },
  {
   "cell_type": "code",
   "execution_count": 4,
   "metadata": {
    "code_folding": [],
    "id": "yulqG--bFXgs"
   },
   "outputs": [],
   "source": [
    "def zero_rule_algorithm(X_train, X_test, y_train, y_test):\n",
    "\n",
    "    prediction = sum(y_train) / len(y_train) #get average\n",
    "    \n",
    "    #average as prediction\n",
    "    y_pred_train = [prediction for i in range(len(X_train))] \n",
    "    y_pred_test = [prediction for i in range(len(X_test))]\n",
    "    \n",
    "    #--------------------------------RMSE & R2-------------------------------\n",
    "    evaluate(y_train, y_pred_train, 'Train')\n",
    "    evaluate(y_test, y_pred_test, 'Test')\n",
    "    #------------------------------------------------------------------------"
   ]
  },
  {
   "cell_type": "markdown",
   "metadata": {
    "id": "6tgE7deTFgKW"
   },
   "source": [
    "# Linear Regression"
   ]
  },
  {
   "cell_type": "code",
   "execution_count": 5,
   "metadata": {
    "id": "s0XAEfGJFSQx"
   },
   "outputs": [],
   "source": [
    "def linear_regression(X_train, X_test, y_train, y_test):\n",
    "    \n",
    "    #for reproducible result\n",
    "    np.random.seed(2)\n",
    "    \n",
    "    #------------------------------Train Model-------------------------------\n",
    "    LR = LinearRegression()\n",
    "    \n",
    "    LR.fit(X_train, y_train) #train model\n",
    "    #------------------------------------------------------------------------\n",
    "    \n",
    "    #------------------------------Predict X---------------------------------\n",
    "    y_pred_train = LR.predict(X_train) #predict on train data\n",
    "    y_pred_test = LR.predict(X_test) #predict on test data\n",
    "    #------------------------------------------------------------------------\n",
    "    \n",
    "    #---------------------------------Accuracy-------------------------------\n",
    "    # Use score method to get accuracy of model\n",
    "    accuracy_score = LR.score(X_test, y_test)\n",
    "    print('Accuracy of Linear Regression on test set: {:.2f}'.format(accuracy_score))\n",
    "    #------------------------------------------------------------------------\n",
    "    \n",
    "    #---------------------------------RMSE & R2------------------------------\n",
    "    evaluate(y_train, y_pred_train, 'Train')\n",
    "    evaluate(y_test, y_pred_test, 'Test')\n",
    "    #------------------------------------------------------------------------\n",
    "    \n",
    "    filename = '../Dashboard UI.model/base_model.sav'\n",
    "    #pickle.dump(LR, open(filename, 'wb')) #save linear regression model\n",
    "    \n",
    "    #Colab use\n",
    "    #filename = 'base_model.sav'\n",
    "    #pickle.dump(LR, open(filename, 'wb')) #save linear regression model\n",
    "    #files.download('base_model.sav')"
   ]
  },
  {
   "cell_type": "markdown",
   "metadata": {
    "id": "ARDG24_3F0Cy"
   },
   "source": [
    "# Working"
   ]
  },
  {
   "cell_type": "code",
   "execution_count": 6,
   "metadata": {
    "colab": {
     "base_uri": "https://localhost:8080/"
    },
    "id": "4z-AEIJWFzWC",
    "outputId": "93061905-746f-450b-9eee-99bd9e254c13"
   },
   "outputs": [
    {
     "name": "stdout",
     "output_type": "stream",
     "text": [
      "Train set RMSE:68.87932080043385, R2:0.0\n",
      "Test set RMSE:52.62485752612688, R2:-0.6036970189556603\n"
     ]
    }
   ],
   "source": [
    "zero_rule_algorithm(train, test, train_y, test_y)"
   ]
  },
  {
   "cell_type": "code",
   "execution_count": 7,
   "metadata": {
    "colab": {
     "base_uri": "https://localhost:8080/"
    },
    "id": "3fKfIwDjF9Vk",
    "outputId": "f81fea37-4c77-4bf0-91a1-93e04a49e017"
   },
   "outputs": [
    {
     "name": "stdout",
     "output_type": "stream",
     "text": [
      "Accuracy of Linear Regression on test set: 0.41\n",
      "Train set RMSE:44.662806660265844, R2:0.5795500450752381\n",
      "Test set RMSE:31.94977455636664, R2:0.408879457833612\n"
     ]
    }
   ],
   "source": [
    "linear_regression(train, test, train_y, test_y)"
   ]
  },
  {
   "cell_type": "code",
   "execution_count": null,
   "metadata": {},
   "outputs": [],
   "source": []
  }
 ],
 "metadata": {
  "colab": {
   "collapsed_sections": [],
   "name": "Baseline Model.ipynb",
   "provenance": []
  },
  "hide_input": false,
  "kernelspec": {
   "display_name": "Python 3",
   "language": "python",
   "name": "python3"
  },
  "language_info": {
   "codemirror_mode": {
    "name": "ipython",
    "version": 3
   },
   "file_extension": ".py",
   "mimetype": "text/x-python",
   "name": "python",
   "nbconvert_exporter": "python",
   "pygments_lexer": "ipython3",
   "version": "3.8.8"
  }
 },
 "nbformat": 4,
 "nbformat_minor": 1
}
